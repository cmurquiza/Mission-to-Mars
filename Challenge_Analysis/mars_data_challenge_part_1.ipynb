{
 "cells": [
  {
   "cell_type": "code",
   "execution_count": 7,
   "id": "3902c291",
   "metadata": {},
   "outputs": [],
   "source": [
    "# Imports the scraping tools\n",
    "from splinter import Browser\n",
    "from bs4 import BeautifulSoup as soup\n",
    "from webdriver_manager.chrome import ChromeDriverManager\n",
    "\n",
    "# Set up Splinter\n",
    "executable_path = {'executable_path': ChromeDriverManager().install()}\n",
    "browser = Browser('chrome', **executable_path, headless=False)"
   ]
  },
  {
   "cell_type": "code",
   "execution_count": 8,
   "id": "2b733d31",
   "metadata": {},
   "outputs": [
    {
     "data": {
      "text/plain": [
       "True"
      ]
     },
     "execution_count": 8,
     "metadata": {},
     "output_type": "execute_result"
    }
   ],
   "source": [
    "# Visit the Mars NASA news site\n",
    "url = 'https://redplanetscience.com'\n",
    "browser.visit(url)\n",
    "# Optional delay for loading the page\n",
    "browser.is_element_present_by_css('div.list_text', wait_time=1)"
   ]
  },
  {
   "cell_type": "code",
   "execution_count": 9,
   "id": "171e0d0b",
   "metadata": {},
   "outputs": [],
   "source": [
    "# Setting up the HTML parser\n",
    "html = browser.html\n",
    "news_soup = soup(html, 'html.parser')\n",
    "slide_elem = news_soup.select_one('div.list_text')"
   ]
  },
  {
   "cell_type": "code",
   "execution_count": 10,
   "id": "25762bc9",
   "metadata": {},
   "outputs": [
    {
     "name": "stdout",
     "output_type": "stream",
     "text": [
      "NASA's Mars Helicopter Attached to Mars 2020 Rover \n",
      "NASA's Mars 2020 Rover Closer to Getting Its Name\n",
      "Mars Scientists Investigate Ancient Life in Australia\n",
      "MOXIE Could Help Future Rockets Launch Off Mars\n",
      "NASA InSight's 'Mole' Is Out of Sight\n",
      "What's Mars Solar Conjunction, and Why Does It Matter?\n",
      "Deadline Closing for Names to Fly on NASA's Next Mars Rover\n",
      "NASA's Mars Reconnaissance Orbiter Undergoes Memory Update\n",
      "Media Get a Close-Up of NASA's Mars 2020 Rover\n",
      "Air Deliveries Bring NASA's Perseverance Mars Rover Closer to Launch\n",
      "NASA Prepares for Moon and Mars With New Addition to Its Deep Space Network\n",
      "New Selfie Shows Curiosity, the Mars Chemist\n",
      "NASA's Mars 2020 Heads Into the Test Chamber\n",
      "NASA's New Mars Rover Will Use X-Rays to Hunt Fossils\n",
      "NASA's Briefcase-Size MarCO Satellite Picks Up Honors\n"
     ]
    }
   ],
   "source": [
    "# Scraping all of the article titles in landing page\n",
    "titles = news_soup.find_all('div', class_='content_title')\n",
    "\n",
    "for title in titles:\n",
    "    print(title.text)"
   ]
  },
  {
   "cell_type": "code",
   "execution_count": 11,
   "id": "2738e689",
   "metadata": {},
   "outputs": [
    {
     "data": {
      "text/plain": [
       "bs4.element.ResultSet"
      ]
     },
     "execution_count": 11,
     "metadata": {},
     "output_type": "execute_result"
    }
   ],
   "source": [
    "type(titles)"
   ]
  },
  {
   "cell_type": "code",
   "execution_count": 13,
   "id": "4e6ae8c9",
   "metadata": {},
   "outputs": [
    {
     "name": "stdout",
     "output_type": "stream",
     "text": [
      "The helicopter will be first aircraft to perform flight tests on another planet.\n",
      "155 students from across the U.S. have been chosen as semifinalists in NASA's essay contest to name the Mars 2020 rover, and see it launch from Cape Canaveral this July.\n",
      "Teams with NASA's Mars 2020 and ESA's ExoMars practiced hunting for fossilized microbial life in the Australian Outback in preparation for their Red Planet missions. \n",
      "NASA's Perseverance rover carries a device to convert Martian air into oxygen that, if produced on a larger scale, could be used not just for breathing, but also for fuel.\n",
      "Now that the heat probe is just below the Martian surface, InSight's arm will scoop some additional soil on top to help it keep digging so it can take Mars' temperature.\n",
      "NASA spacecraft at Mars are going to be on their own for a few weeks when the Sun comes between Mars and Earth, interrupting communications.\n",
      "You have until Sept. 30 to send your names to Mars aboard the Mars 2020 rover. \n",
      "Other orbiters will continue relaying data from Mars surface missions for a two-week period.\n",
      "The clean room at NASA's Jet Propulsion Laboratory was open to the media to see NASA's next Mars explorer before it leaves for Florida in preparation for a summertime launch.\n",
      "A NASA Wallops Flight Facility cargo plane transported more than two tons of equipment — including the rover's sample collection tubes — to Florida for this summer's liftoff.\n",
      "Robotic spacecraft will be able to communicate with the dish using radio waves and lasers.\n",
      "The NASA rover performed a special chemistry experiment at the location captured in its newest self-portrait.\n",
      "In this time-lapse video taken at JPL, engineers move the Mars 2020 rover into a large vacuum chamber for testing in Mars-like environmental conditions.\n",
      "PIXL, an instrument on the end of the Perseverance rover's arm, will search for chemical fingerprints left by ancient microbes.\n",
      "The twin spacecraft, the first of their kind to fly into deep space, earn a Laureate from Aviation Week & Space Technology.\n"
     ]
    }
   ],
   "source": [
    "# Scraping all preview texts on the landing page\n",
    "preview_body = news_soup.find_all('div', class_='article_teaser_body')\n",
    "\n",
    "for text in preview_body:\n",
    "    print(text.text)"
   ]
  },
  {
   "cell_type": "code",
   "execution_count": 16,
   "id": "2f40a324",
   "metadata": {},
   "outputs": [
    {
     "name": "stdout",
     "output_type": "stream",
     "text": [
      "[{'title': \"NASA's Mars Helicopter Attached to Mars 2020 Rover \", 'preview': 'The helicopter will be first aircraft to perform flight tests on another planet.'}, {'title': \"NASA's Mars 2020 Rover Closer to Getting Its Name\", 'preview': \"155 students from across the U.S. have been chosen as semifinalists in NASA's essay contest to name the Mars 2020 rover, and see it launch from Cape Canaveral this July.\"}, {'title': 'Mars Scientists Investigate Ancient Life in Australia', 'preview': \"Teams with NASA's Mars 2020 and ESA's ExoMars practiced hunting for fossilized microbial life in the Australian Outback in preparation for their Red Planet missions. \"}, {'title': 'MOXIE Could Help Future Rockets Launch Off Mars', 'preview': \"NASA's Perseverance rover carries a device to convert Martian air into oxygen that, if produced on a larger scale, could be used not just for breathing, but also for fuel.\"}, {'title': \"NASA InSight's 'Mole' Is Out of Sight\", 'preview': \"Now that the heat probe is just below the Martian surface, InSight's arm will scoop some additional soil on top to help it keep digging so it can take Mars' temperature.\"}, {'title': \"What's Mars Solar Conjunction, and Why Does It Matter?\", 'preview': 'NASA spacecraft at Mars are going to be on their own for a few weeks when the Sun comes between Mars and Earth, interrupting communications.'}, {'title': \"Deadline Closing for Names to Fly on NASA's Next Mars Rover\", 'preview': 'You have until Sept. 30 to send your names to Mars aboard the Mars 2020 rover. '}, {'title': \"NASA's Mars Reconnaissance Orbiter Undergoes Memory Update\", 'preview': 'Other orbiters will continue relaying data from Mars surface missions for a two-week period.'}, {'title': \"Media Get a Close-Up of NASA's Mars 2020 Rover\", 'preview': \"The clean room at NASA's Jet Propulsion Laboratory was open to the media to see NASA's next Mars explorer before it leaves for Florida in preparation for a summertime launch.\"}, {'title': \"Air Deliveries Bring NASA's Perseverance Mars Rover Closer to Launch\", 'preview': \"A NASA Wallops Flight Facility cargo plane transported more than two tons of equipment — including the rover's sample collection tubes — to Florida for this summer's liftoff.\"}, {'title': 'NASA Prepares for Moon and Mars With New Addition to Its Deep Space Network', 'preview': 'Robotic spacecraft will be able to communicate with the dish using radio waves and lasers.'}, {'title': 'New Selfie Shows Curiosity, the Mars Chemist', 'preview': 'The NASA rover performed a special chemistry experiment at the location captured in its newest self-portrait.'}, {'title': \"NASA's Mars 2020 Heads Into the Test Chamber\", 'preview': 'In this time-lapse video taken at JPL, engineers move the Mars 2020 rover into a large vacuum chamber for testing in Mars-like environmental conditions.'}, {'title': \"NASA's New Mars Rover Will Use X-Rays to Hunt Fossils\", 'preview': \"PIXL, an instrument on the end of the Perseverance rover's arm, will search for chemical fingerprints left by ancient microbes.\"}, {'title': \"NASA's Briefcase-Size MarCO Satellite Picks Up Honors\", 'preview': 'The twin spacecraft, the first of their kind to fly into deep space, earn a Laureate from Aviation Week & Space Technology.'}]\n"
     ]
    }
   ],
   "source": [
    "# Method one - List to contain article info combined\n",
    "\n",
    "articles_list = []\n",
    "\n",
    "for i in range(len(titles)):\n",
    "    articles_list.append({\n",
    "        'title': titles[i].text,\n",
    "        'preview': preview_body[i].text\n",
    "    })\n",
    "print(articles_list)"
   ]
  }
 ],
 "metadata": {
  "kernelspec": {
   "display_name": "Python 3 (ipykernel)",
   "language": "python",
   "name": "python3"
  },
  "language_info": {
   "codemirror_mode": {
    "name": "ipython",
    "version": 3
   },
   "file_extension": ".py",
   "mimetype": "text/x-python",
   "name": "python",
   "nbconvert_exporter": "python",
   "pygments_lexer": "ipython3",
   "version": "3.7.13"
  }
 },
 "nbformat": 4,
 "nbformat_minor": 5
}
